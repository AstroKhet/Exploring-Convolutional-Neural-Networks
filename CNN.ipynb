{
 "cells": [
  {
   "cell_type": "markdown",
   "metadata": {},
   "source": [
    "# Flowers\n",
    "\n",
    "## Imports and Variables"
   ]
  },
  {
   "cell_type": "code",
   "execution_count": null,
   "metadata": {},
   "outputs": [],
   "source": [
    "import tensorflow as tf\n",
    "import matplotlib.pyplot as plt\n",
    "import numpy as np\n",
    "\n",
    "batch_size = 16\n",
    "img_height = 227\n",
    "img_width = 227\n",
    "data_dir = \"flowers/\"\n",
    "\n",
    "AUTOTUNE = tf.data.AUTOTUNE\n"
   ]
  },
  {
   "cell_type": "markdown",
   "metadata": {},
   "source": [
    "## Data"
   ]
  },
  {
   "cell_type": "code",
   "execution_count": null,
   "metadata": {},
   "outputs": [],
   "source": [
    "x_train = tf.keras.utils.image_dataset_from_directory(\n",
    "    data_dir,\n",
    "    validation_split=0.2,\n",
    "    subset=\"training\",\n",
    "    seed=123,\n",
    "    image_size=(img_height, img_width),\n",
    "    batch_size=batch_size,\n",
    "    crop_to_aspect_ratio=True\n",
    ")\n",
    "\n",
    "x_val = tf.keras.utils.image_dataset_from_directory(\n",
    "    data_dir,\n",
    "    validation_split=0.2,\n",
    "    subset=\"validation\",\n",
    "    seed=123,\n",
    "    image_size=(img_height, img_width),\n",
    "    batch_size=batch_size,\n",
    "    crop_to_aspect_ratio=True,\n",
    "    \n",
    ")\n",
    "\n",
    "val_batches = tf.data.experimental.cardinality(x_val)\n",
    "x_test = x_val.take(val_batches // 2)\n",
    "    \n",
    "class_names = x_train.class_names\n",
    "num_classes = len(class_names)\n",
    "\n",
    "print(f\"Number of classes: {num_classes}\")\n",
    "print(f\"Class names: {class_names}\")"
   ]
  },
  {
   "cell_type": "markdown",
   "metadata": {},
   "source": [
    "## Preprocessing & Data augmentation"
   ]
  },
  {
   "cell_type": "code",
   "execution_count": null,
   "metadata": {},
   "outputs": [],
   "source": [
    "plt.figure(figsize=(15, 8))\n",
    "\n",
    "for images, labels in x_train.take(1): \n",
    "    for i in range(batch_size):\n",
    "        ax = plt.subplot(4, 8, i + 1)\n",
    "        plt.imshow(images[i].numpy().astype(\"uint8\"))\n",
    "        plt.title(class_names[labels[i]])\n",
    "        plt.axis(\"off\")\n",
    "\n",
    "plt.tight_layout()\n",
    "plt.show()"
   ]
  },
  {
   "cell_type": "code",
   "execution_count": null,
   "metadata": {},
   "outputs": [],
   "source": [
    "def preprocess(img, label):\n",
    "    return tf.image.per_image_standardization(img), label\n",
    "\n",
    "data_augmentation = tf.keras.Sequential([\n",
    "    tf.keras.layers.RandomFlip(\"horizontal\"),\n",
    "    tf.keras.layers.RandomZoom((-0.2, 0.2), (-0.2, 0.2)),\n",
    "    tf.keras.layers.RandomRotation(factor=(-0.1, 0.1)),\n",
    "])\n",
    "\n",
    "# Data Augmentation\n",
    "x_train = x_train.map(lambda x, y: (data_augmentation(x), y), num_parallel_calls=AUTOTUNE)\n",
    "\n",
    "# Preprocessing\n",
    "x_train = x_train.map(preprocess, num_parallel_calls=AUTOTUNE)\n",
    "x_val = x_val.map(preprocess, num_parallel_calls=AUTOTUNE)\n",
    "x_test = x_test.map(preprocess, num_parallel_calls=AUTOTUNE)\n",
    "\n",
    "# Prefetch the datasets for performance\n",
    "x_train = x_train.cache().prefetch(buffer_size=AUTOTUNE)\n",
    "x_val = x_val.cache().prefetch(buffer_size=AUTOTUNE)\n",
    "\n"
   ]
  },
  {
   "cell_type": "markdown",
   "metadata": {},
   "source": [
    "## Generate model\n",
    "\n",
    "- AlexNet\n",
    "- VGG16\n",
    "- ResNet\n",
    "- Inception\n",
    "- EfficientNet\n",
    "- MobileNet"
   ]
  },
  {
   "cell_type": "markdown",
   "metadata": {},
   "source": [
    "# AlexNet"
   ]
  },
  {
   "cell_type": "code",
   "execution_count": null,
   "metadata": {},
   "outputs": [],
   "source": [
    "def AlexNet(input_shape, num_classes, regularizer=None):\n",
    "    model = tf.keras.models.Sequential()\n",
    "    model.add(tf.keras.layers.Input(input_shape))\n",
    "    \n",
    "    model.add(tf.keras.layers.Conv2D(filters=96, kernel_size=(11, 11), strides=(4, 4), activation='relu', kernel_regularizer=regularizer, input_shape=input_shape))\n",
    "    model.add(tf.keras.layers.BatchNormalization())\n",
    "    model.add(tf.keras.layers.MaxPooling2D(pool_size=(3, 3), strides=(2, 2)))\n",
    "    \n",
    "    model.add(tf.keras.layers.Conv2D(filters=256, kernel_size=(5, 5), strides=(1, 1), activation='relu', padding='same', kernel_regularizer=regularizer))\n",
    "    model.add(tf.keras.layers.BatchNormalization())\n",
    "    model.add(tf.keras.layers.MaxPooling2D(pool_size=(3, 3), strides=(2, 2)))\n",
    "    \n",
    "    model.add(tf.keras.layers.Conv2D(filters=384, kernel_size=(3, 3), strides=(1, 1), activation='relu', padding='same', kernel_regularizer=regularizer))\n",
    "    model.add(tf.keras.layers.BatchNormalization())\n",
    "    \n",
    "    model.add(tf.keras.layers.Conv2D(filters=384, kernel_size=(3, 3), strides=(1, 1), activation='relu', padding='same', kernel_regularizer=regularizer))\n",
    "    model.add(tf.keras.layers.BatchNormalization())\n",
    "    \n",
    "    model.add(tf.keras.layers.Conv2D(filters=256, kernel_size=(3, 3), strides=(1, 1), activation='relu', padding='same', kernel_regularizer=regularizer))\n",
    "    model.add(tf.keras.layers.BatchNormalization())\n",
    "    model.add(tf.keras.layers.MaxPooling2D(pool_size=(3, 3), strides=(2, 2)))\n",
    "    \n",
    "    model.add(tf.keras.layers.Flatten())\n",
    "    \n",
    "    model.add(tf.keras.layers.Dense(4096, activation='relu', kernel_regularizer=regularizer))\n",
    "    model.add(tf.keras.layers.Dropout(0.5))\n",
    "    \n",
    "    model.add(tf.keras.layers.Dense(4096, activation='relu', kernel_regularizer=regularizer))\n",
    "    model.add(tf.keras.layers.Dropout(0.5))\n",
    "    \n",
    "    model.add(tf.keras.layers.Dense(num_classes, activation='softmax'))\n",
    "    \n",
    "    return model\n"
   ]
  },
  {
   "cell_type": "markdown",
   "metadata": {},
   "source": [
    "# VGG16"
   ]
  },
  {
   "cell_type": "code",
   "execution_count": null,
   "metadata": {},
   "outputs": [],
   "source": [
    "def VGG16(input_shape, num_classes, regularizer=None):\n",
    "    base_model = tf.keras.applications.VGG16(weights='imagenet', include_top=False, input_shape=input_shape, classes=num_classes)\n",
    "    \n",
    "    model = tf.keras.models.Sequential()\n",
    "    model.add(base_model)\n",
    "    \n",
    "    model.add(tf.keras.layers.Flatten())\n",
    "    model.add(tf.keras.layers.Dense(4096, activation='relu', kernel_regularizer=regularizer))\n",
    "    model.add(tf.keras.layers.Dropout(0.5))\n",
    "    model.add(tf.keras.layers.Dense(4096, activation='relu', kernel_regularizer=regularizer))\n",
    "    model.add(tf.keras.layers.Dropout(0.5))\n",
    "    model.add(tf.keras.layers.Dense(num_classes, activation='softmax'))\n",
    "    return model\n",
    "\n",
    "\n",
    "def VGG16_manual(input_shape, num_classes, regularizer=None):\n",
    "    model = tf.keras.models.Sequential()\n",
    "    \n",
    "    model.add(tf.keras.layers.Conv2D(64, (3, 3), activation='relu', padding='same', kernel_regularizer=regularizer, input_shape=input_shape))\n",
    "    model.add(tf.keras.layers.BatchNormalization())\n",
    "    model.add(tf.keras.layers.Conv2D(64, (3, 3), activation='relu', padding='same', kernel_regularizer=regularizer))\n",
    "    model.add(tf.keras.layers.BatchNormalization())\n",
    "    model.add(tf.keras.layers.MaxPooling2D((2, 2), strides=(2, 2)))\n",
    "\n",
    "    model.add(tf.keras.layers.Conv2D(128, (3, 3), activation='relu', padding='same', kernel_regularizer=regularizer))\n",
    "    model.add(tf.keras.layers.BatchNormalization())\n",
    "    model.add(tf.keras.layers.Conv2D(128, (3, 3), activation='relu', padding='same', kernel_regularizer=regularizer))\n",
    "    model.add(tf.keras.layers.BatchNormalization())\n",
    "    model.add(tf.keras.layers.MaxPooling2D((2, 2), strides=(2, 2)))\n",
    "\n",
    "    model.add(tf.keras.layers.Conv2D(256, (3, 3), activation='relu', padding='same', kernel_regularizer=regularizer))\n",
    "    model.add(tf.keras.layers.BatchNormalization())\n",
    "    model.add(tf.keras.layers.Conv2D(256, (3, 3), activation='relu', padding='same', kernel_regularizer=regularizer))\n",
    "    model.add(tf.keras.layers.BatchNormalization())\n",
    "    model.add(tf.keras.layers.Conv2D(256, (3, 3), activation='relu', padding='same', kernel_regularizer=regularizer))\n",
    "    model.add(tf.keras.layers.BatchNormalization())\n",
    "    model.add(tf.keras.layers.MaxPooling2D((2, 2), strides=(2, 2)))\n",
    "\n",
    "    model.add(tf.keras.layers.Conv2D(512, (3, 3), activation='relu', padding='same', kernel_regularizer=regularizer))\n",
    "    model.add(tf.keras.layers.BatchNormalization())\n",
    "    model.add(tf.keras.layers.Conv2D(512, (3, 3), activation='relu', padding='same', kernel_regularizer=regularizer))\n",
    "    model.add(tf.keras.layers.BatchNormalization())\n",
    "    model.add(tf.keras.layers.Conv2D(512, (3, 3), activation='relu', padding='same', kernel_regularizer=regularizer))\n",
    "    model.add(tf.keras.layers.BatchNormalization())\n",
    "    model.add(tf.keras.layers.MaxPooling2D((2, 2), strides=(2, 2)))\n",
    "\n",
    "    model.add(tf.keras.layers.Conv2D(512, (3, 3), activation='relu', padding='same', kernel_regularizer=regularizer))\n",
    "    model.add(tf.keras.layers.BatchNormalization())\n",
    "    model.add(tf.keras.layers.Conv2D(512, (3, 3), activation='relu', padding='same', kernel_regularizer=regularizer))\n",
    "    model.add(tf.keras.layers.BatchNormalization())\n",
    "    model.add(tf.keras.layers.Conv2D(512, (3, 3), activation='relu', padding='same', kernel_regularizer=regularizer))\n",
    "    model.add(tf.keras.layers.BatchNormalization())\n",
    "    model.add(tf.keras.layers.MaxPooling2D((2, 2), strides=(2, 2)))\n",
    "\n",
    "    model.add(tf.keras.layers.Flatten())\n",
    "    model.add(tf.keras.layers.Dense(4096, activation='relu', kernel_regularizer=regularizer))\n",
    "    model.add(tf.keras.layers.Dropout(0.5))\n",
    "    model.add(tf.keras.layers.Dense(4096, activation='relu', kernel_regularizer=regularizer))\n",
    "    model.add(tf.keras.layers.Dropout(0.5))\n",
    "    model.add(tf.keras.layers.Dense(num_classes, activation='softmax'))\n",
    "\n",
    "    return model"
   ]
  },
  {
   "cell_type": "markdown",
   "metadata": {},
   "source": [
    "# ResNet"
   ]
  },
  {
   "cell_type": "code",
   "execution_count": null,
   "metadata": {},
   "outputs": [],
   "source": [
    "def ResNet50(input_shape, num_classes, regularizer=None):\n",
    "    base_model = tf.keras.applications.ResNet50(include_top=False, weights='imagenet', input_shape=input_shape)\n",
    "\n",
    "    pooling = tf.keras.layers.GlobalAveragePooling2D()(base_model.output)\n",
    "    output = tf.keras.layers.Dense(num_classes, activation='softmax')(pooling)\n",
    "\n",
    "    model = tf.keras.Model(inputs=base_model.input, outputs=output)\n",
    "    return model"
   ]
  },
  {
   "cell_type": "markdown",
   "metadata": {},
   "source": [
    "# Inception"
   ]
  },
  {
   "cell_type": "code",
   "execution_count": null,
   "metadata": {},
   "outputs": [],
   "source": [
    "def InceptionV3(input_shape, num_classes, regularizer=None):\n",
    "    base_model = tf.keras.applications.InceptionV3(weights='imagenet', include_top=False, input_shape=input_shape)\n",
    "    \n",
    "    pooling = tf.keras.layers.GlobalAveragePooling2D()(base_model.output)\n",
    "    fc = tf.keras.layers.Dense(1024, activation='relu', kernel_regularizer=regularizer)(pooling)\n",
    "    output = tf.keras.layers.Dense(num_classes, activation='softmax')(fc)\n",
    "\n",
    "    model = tf.keras.Model(inputs=base_model.input, outputs=output)\n",
    "    return model\n"
   ]
  },
  {
   "cell_type": "markdown",
   "metadata": {},
   "source": [
    "# EfficientNet"
   ]
  },
  {
   "cell_type": "code",
   "execution_count": null,
   "metadata": {},
   "outputs": [],
   "source": [
    "def EfficientNet(input_shape, num_classes, regularizer=None):\n",
    "    base_model = tf.keras.applications.EfficientNetB0(weights='imagenet', include_top=False, input_shape=input_shape)\n",
    "\n",
    "    pooling = tf.keras.layers.GlobalAveragePooling2D()(base_model.output)\n",
    "    fc = tf.keras.layers.Dense(1024, activation='relu', kernel_regularizer=regularizer)(pooling)\n",
    "    output = tf.keras.layers.Dense(num_classes, activation='softmax')(fc) \n",
    "\n",
    "    model = tf.keras.Model(inputs=base_model.input, outputs=output)\n",
    "\n",
    "    return model\n"
   ]
  },
  {
   "cell_type": "markdown",
   "metadata": {},
   "source": [
    "# MobileNet"
   ]
  },
  {
   "cell_type": "code",
   "execution_count": null,
   "metadata": {},
   "outputs": [],
   "source": [
    "def MobileNet(input_shape, num_classes, regularizer=None):\n",
    "    base_model = tf.keras.applications.MobileNetV2(weights='imagenet', include_top=False, input_shape=input_shape)\n",
    "\n",
    "    pooling = tf.keras.layers.GlobalAveragePooling2D()(base_model.output)\n",
    "    fc = tf.keras.layers.Dense(1024, activation='relu', kernel_regularizer=regularizer)(pooling)\n",
    "    output = tf.keras.layers.Dense(num_classes, activation='softmax')(fc)  # Replace num_classes with your number of classes\n",
    "\n",
    "    model = tf.keras.Model(inputs=base_model.input, outputs=output)\n",
    "    \n",
    "    return model"
   ]
  },
  {
   "cell_type": "markdown",
   "metadata": {},
   "source": [
    "## Model Training"
   ]
  },
  {
   "cell_type": "code",
   "execution_count": null,
   "metadata": {},
   "outputs": [],
   "source": [
    "model_no = 4  # Change based on preference\n",
    "\n",
    "MODELS = {\n",
    "    1: AlexNet,\n",
    "    2: VGG16,\n",
    "    3: ResNet50,\n",
    "    4: InceptionV3,\n",
    "    5: EfficientNet,\n",
    "    6: MobileNet  # Re-run data preprocessing with input_shape=(224, 224, 3) instead\n",
    "}\n",
    "\n",
    "input_shape = (img_height, img_width, 3)\n",
    "regularizer = tf.keras.regularizers.l2(0.01)\n",
    "model = MODELS[model_no](input_shape, num_classes, regularizer)\n",
    "    \n",
    "lr = 1e-4\n",
    "ADAM = tf.keras.optimizers.Adam(lr)\n",
    "SGDplus = tf.keras.optimizers.SGD(lr, momentum=0.9)\n",
    "model.compile(optimizer=ADAM,\n",
    "    loss=tf.keras.losses.SparseCategoricalCrossentropy(),\n",
    "    metrics=['accuracy']\n",
    ")\n",
    "\n",
    "print(model.summary())"
   ]
  },
  {
   "cell_type": "code",
   "execution_count": null,
   "metadata": {},
   "outputs": [],
   "source": [
    "REDUCE_LR = tf.keras.callbacks.ReduceLROnPlateau(monitor='val_loss', factor=1/3, patience=5)\n",
    "LR_SCHEDULER = tf.keras.callbacks.LearningRateScheduler(lambda epoch, _: lr * (1/3) ** (epoch//10), verbose=0)\n",
    "EARLY_STOPPING = tf.keras.callbacks.EarlyStopping(monitor='val_loss', patience=10)\n",
    "\n",
    "history = model.fit(\n",
    "    x_train,\n",
    "    validation_data=x_val,\n",
    "    epochs=1000,\n",
    "    callbacks=[REDUCE_LR, EARLY_STOPPING]\n",
    ")"
   ]
  },
  {
   "cell_type": "code",
   "execution_count": null,
   "metadata": {},
   "outputs": [],
   "source": [
    "from matplotlib import pyplot as plt\n",
    "\n",
    "plt.figure(figsize=(9, 6))\n",
    "\n",
    "# Plot accuracy\n",
    "plt.subplot(2, 1, 1)\n",
    "plt.plot(history.history['accuracy'])\n",
    "plt.plot(history.history['val_accuracy'])\n",
    "plt.title('Model Accuracy')\n",
    "plt.ylabel('Accuracy')\n",
    "plt.xlabel('Epoch')\n",
    "plt.legend(['Train', 'Validation'], loc='upper left')\n",
    "\n",
    "# Plot loss\n",
    "plt.subplot(2, 1, 2)\n",
    "plt.plot(history.history['loss'])\n",
    "plt.plot(history.history['val_loss'])\n",
    "plt.title('Model Loss')\n",
    "plt.ylabel('Loss')\n",
    "plt.xlabel('Epoch')\n",
    "plt.legend(['Train', 'Validation'], loc='upper left')\n",
    "\n",
    "plt.tight_layout()\n",
    "plt.show()"
   ]
  },
  {
   "cell_type": "code",
   "execution_count": null,
   "metadata": {},
   "outputs": [],
   "source": [
    "# Save model\n",
    "model.save('Models/ResNet50.h5')"
   ]
  },
  {
   "cell_type": "markdown",
   "metadata": {},
   "source": [
    "## Results & evaluation"
   ]
  },
  {
   "cell_type": "code",
   "execution_count": null,
   "metadata": {},
   "outputs": [],
   "source": [
    "# Load pretrained models if needed\n",
    "model = tf.keras.models.load_model('Models/VGG16.h5')\n",
    "print(model.summary())"
   ]
  },
  {
   "cell_type": "code",
   "execution_count": null,
   "metadata": {},
   "outputs": [],
   "source": [
    "# Evaluate on test data\n",
    "results = model.evaluate(x_test)\n",
    "print(f\"Test Loss: {results[0]}\")\n",
    "print(f\"Test Accuracy: {results[1]}\")"
   ]
  },
  {
   "cell_type": "markdown",
   "metadata": {},
   "source": [
    "### Visualize Convolution Layers (Generated by ChatGPT)"
   ]
  },
  {
   "cell_type": "code",
   "execution_count": null,
   "metadata": {},
   "outputs": [],
   "source": [
    "def load_image(image_path):\n",
    "    img = tf.keras.preprocessing.image.load_img(image_path)\n",
    "    img_array = tf.keras.preprocessing.image.img_to_array(img)\n",
    "    img_tensor = tf.convert_to_tensor(img_array, dtype=tf.float32)\n",
    "    img_tensor = tf.image.resize_with_pad(img, img_height, img_width)\n",
    "    img_tensor = tf.image.per_image_standardization(img)\n",
    "    img_tensor = tf.expand_dims(img_tensor, axis=0)\n",
    "    return img_tensor\n",
    "\n",
    "def create_activation_model(model, layer_index):\n",
    "    layer_outputs = model.layers[layer_index].output\n",
    "    activation_model = tf.keras.models.Model(inputs=model.input, outputs=layer_outputs)\n",
    "    return activation_model\n",
    "\n",
    "def visualize_filters(activation, num_filters):\n",
    "    rows = round(num_filters ** 0.5) + 1\n",
    "    cols = rows\n",
    "    _, axes = plt.subplots(rows, cols, figsize=(20, 20))\n",
    "    axes = axes.flatten()\n",
    "    for i in range(num_filters):\n",
    "        ax = axes[i]\n",
    "        ax.imshow(activation[0, :, :, i], cmap='viridis')\n",
    "        ax.axis('off')\n",
    "    for i in range(num_filters, len(axes)):\n",
    "        axes[i].axis('off')\n",
    "    plt.subplots_adjust(wspace=0, hspace=0)\n",
    "    plt.tight_layout() \n",
    "    plt.show()\n",
    "\n",
    "image_path = 'Training Pictures/sunflower.jpg'\n",
    "img_tensor = load_image(image_path)\n",
    "\n",
    "layer_indices = [1, 4, 7, 9, 11]  # AlexNet \n",
    "\n",
    "# Visualize filters for each convolutional layer\n",
    "for layer_index in layer_indices:\n",
    "    activation_model = create_activation_model(model, layer_index)\n",
    "    activations = activation_model.predict(img_tensor)\n",
    "    num_filters = activations.shape[-1]\n",
    "    print(f\"Layer {layer_index} has {num_filters} filters.\")\n",
    "    visualize_filters(activations, num_filters)"
   ]
  },
  {
   "cell_type": "markdown",
   "metadata": {},
   "source": [
    "## Confusion Matrix"
   ]
  },
  {
   "cell_type": "code",
   "execution_count": null,
   "metadata": {},
   "outputs": [],
   "source": [
    "y_true = []\n",
    "y_pred = []\n",
    "\n",
    "for images, labels in x_test:\n",
    "    predictions = model(images, training=False)\n",
    "    predicted_classes = tf.argmax(predictions, axis=1)\n",
    "    \n",
    "    y_true.extend(labels.numpy())\n",
    "    y_pred.extend(predicted_classes.numpy())\n",
    "\n",
    "y_test, y_hat = tf.convert_to_tensor(y_true), tf.convert_to_tensor(y_pred)\n",
    "\n",
    "confusion = tf.math.confusion_matrix(\n",
    "    y_test,\n",
    "    y_hat,\n",
    "    num_classes=5,\n",
    "    weights=None,\n",
    "    dtype=tf.dtypes.int32,\n",
    "    name=None\n",
    ").numpy()\n",
    "\n",
    "print(confusion)"
   ]
  },
  {
   "cell_type": "code",
   "execution_count": null,
   "metadata": {},
   "outputs": [],
   "source": [
    "import itertools\n",
    "\n",
    "title=\"AlexNet confusion matrix\"\n",
    "classes = class_names\n",
    "cm = confusion.astype('float') / confusion.sum(axis=1)[:, np.newaxis]\n",
    "\n",
    "plt.figure(figsize=(8, 6))\n",
    "plt.imshow(cm, interpolation='nearest', cmap=plt.cm.Blues)\n",
    "plt.title(title)\n",
    "plt.colorbar()\n",
    "tick_marks = np.arange(len(classes))\n",
    "plt.xticks(tick_marks, classes, rotation=45)\n",
    "plt.yticks(tick_marks, classes)\n",
    "\n",
    "fmt = '.2f'\n",
    "thresh = cm.max() / 2.\n",
    "for i, j in itertools.product(range(cm.shape[0]), range(cm.shape[1])):\n",
    "    plt.text(j, i, format(cm[i, j], fmt),\n",
    "                horizontalalignment=\"center\",\n",
    "                color=\"white\" if cm[i, j] > thresh else \"black\")\n",
    "\n",
    "plt.ylabel('True label')\n",
    "plt.xlabel('Predicted label')\n",
    "plt.tight_layout()\n"
   ]
  }
 ],
 "metadata": {
  "kernelspec": {
   "display_name": "base",
   "language": "python",
   "name": "python3"
  },
  "language_info": {
   "codemirror_mode": {
    "name": "ipython",
    "version": 3
   },
   "file_extension": ".py",
   "mimetype": "text/x-python",
   "name": "python",
   "nbconvert_exporter": "python",
   "pygments_lexer": "ipython3",
   "version": "3.9.19"
  }
 },
 "nbformat": 4,
 "nbformat_minor": 2
}
